{
 "cells": [
  {
   "cell_type": "code",
   "execution_count": null,
   "id": "7036fe9c",
   "metadata": {},
   "outputs": [],
   "source": [
    "#!/usr/bin/env python\n",
    "# -*- coding: utf-8 -*-\n",
    "\n",
    "\"\"\"\n",
    "Author: Clay Doerschlag\n",
    "Created Date: 08/02/2023\n",
    "\n",
    "About: This simple script uses the tweepy package to access the Twitter API to obtain data related to an\n",
    "individual user's tweets.\n",
    "\n",
    "I use Elon Musk's account as an example \n",
    "\n",
    "\"\"\"\n",
    "\n",
    "import tweepy\n",
    "import pandas as pd \n",
    "import json\n",
    "from datetime import datetime\n",
    "import s3fs \n",
    "\n",
    "def run_twitter_etl():\n",
    "\n",
    "    access_key = \"\" \n",
    "    access_secret = \"\" \n",
    "    consumer_key = \"\"\n",
    "    consumer_secret = \"\"\n",
    "\n",
    "\n",
    "    # Twitter authentication\n",
    "    auth = tweepy.OAuthHandler(access_key, access_secret)   \n",
    "    auth.set_access_token(consumer_key, consumer_secret) \n",
    "\n",
    "    # # # Creating an API object \n",
    "    api = tweepy.API(auth)\n",
    "    tweets = api.user_timeline(screen_name='@elonmusk', \n",
    "                            # 200 is the maximum allowed count\n",
    "                            count=200,\n",
    "                            include_rts = False,\n",
    "                            tweet_mode = 'extended'\n",
    "                            )\n",
    "    \n",
    "    \n",
    "    client = tweepy.Client(bearer_token=bearer_token)\n",
    "    username = '@elonmusk'\n",
    "    account = client.get_user(username=username)\n",
    "    tweets = client.get_users_tweets(id = account.data.id,  max_results = 100, exclude = \"retweets,replies\")\n",
    "\n",
    "    list = []\n",
    "    for tweet in tweets:\n",
    "        text = tweet._json[\"full_text\"]\n",
    "\n",
    "        refined_tweet = {\"user\": tweet.user.screen_name,\n",
    "                        'text' : text,\n",
    "                        'favorite_count' : tweet.favorite_count,\n",
    "                        'retweet_count' : tweet.retweet_count,\n",
    "                        'created_at' : tweet.created_at}\n",
    "        \n",
    "        list.append(refined_tweet)\n",
    "\n",
    "    df = pd.DataFrame(list)\n",
    "    df.to_csv('refined_tweets.csv')"
   ]
  },
  {
   "cell_type": "code",
   "execution_count": null,
   "id": "28f6b837",
   "metadata": {},
   "outputs": [],
   "source": [
    "run_twitter_etl()"
   ]
  },
  {
   "cell_type": "code",
   "execution_count": null,
   "id": "48e57024",
   "metadata": {},
   "outputs": [],
   "source": []
  }
 ],
 "metadata": {
  "kernelspec": {
   "display_name": "Python 3 (ipykernel)",
   "language": "python",
   "name": "python3"
  },
  "language_info": {
   "codemirror_mode": {
    "name": "ipython",
    "version": 3
   },
   "file_extension": ".py",
   "mimetype": "text/x-python",
   "name": "python",
   "nbconvert_exporter": "python",
   "pygments_lexer": "ipython3",
   "version": "3.10.9"
  }
 },
 "nbformat": 4,
 "nbformat_minor": 5
}
